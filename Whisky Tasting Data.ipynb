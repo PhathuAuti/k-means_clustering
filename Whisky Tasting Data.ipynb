{
 "cells": [
  {
   "cell_type": "code",
   "execution_count": 1,
   "metadata": {},
   "outputs": [],
   "source": [
    "# Importing libraries\n",
    "import numpy as np\n",
    "import pandas as pd\n",
    "import matplotlib.pyplot as plt\n",
    "import seaborn as sns\n",
    "%matplotlib inline\n",
    "from sklearn.cluster import KMeans\n",
    "from sklearn.preprocessing import LabelEncoder"
   ]
  },
  {
   "cell_type": "code",
   "execution_count": 2,
   "metadata": {},
   "outputs": [
    {
     "data": {
      "text/html": [
       "<div>\n",
       "<style scoped>\n",
       "    .dataframe tbody tr th:only-of-type {\n",
       "        vertical-align: middle;\n",
       "    }\n",
       "\n",
       "    .dataframe tbody tr th {\n",
       "        vertical-align: top;\n",
       "    }\n",
       "\n",
       "    .dataframe thead th {\n",
       "        text-align: right;\n",
       "    }\n",
       "</style>\n",
       "<table border=\"1\" class=\"dataframe\">\n",
       "  <thead>\n",
       "    <tr style=\"text-align: right;\">\n",
       "      <th></th>\n",
       "      <th>RowID</th>\n",
       "      <th>Distillery</th>\n",
       "      <th>Body</th>\n",
       "      <th>Sweetness</th>\n",
       "      <th>Smoky</th>\n",
       "      <th>Medicinal</th>\n",
       "      <th>Tobacco</th>\n",
       "      <th>Honey</th>\n",
       "      <th>Spicy</th>\n",
       "      <th>Winey</th>\n",
       "      <th>Nutty</th>\n",
       "      <th>Malty</th>\n",
       "      <th>Fruity</th>\n",
       "      <th>Floral</th>\n",
       "      <th>Postcode</th>\n",
       "      <th>Latitude</th>\n",
       "      <th>Longitude</th>\n",
       "    </tr>\n",
       "  </thead>\n",
       "  <tbody>\n",
       "    <tr>\n",
       "      <th>0</th>\n",
       "      <td>1</td>\n",
       "      <td>Aberfeldy</td>\n",
       "      <td>2</td>\n",
       "      <td>2</td>\n",
       "      <td>2</td>\n",
       "      <td>0</td>\n",
       "      <td>0</td>\n",
       "      <td>2</td>\n",
       "      <td>1</td>\n",
       "      <td>2</td>\n",
       "      <td>2</td>\n",
       "      <td>2</td>\n",
       "      <td>2</td>\n",
       "      <td>2</td>\n",
       "      <td>\\tPH15 2EB</td>\n",
       "      <td>286580</td>\n",
       "      <td>749680</td>\n",
       "    </tr>\n",
       "    <tr>\n",
       "      <th>1</th>\n",
       "      <td>2</td>\n",
       "      <td>Aberlour</td>\n",
       "      <td>3</td>\n",
       "      <td>3</td>\n",
       "      <td>1</td>\n",
       "      <td>0</td>\n",
       "      <td>0</td>\n",
       "      <td>4</td>\n",
       "      <td>3</td>\n",
       "      <td>2</td>\n",
       "      <td>2</td>\n",
       "      <td>3</td>\n",
       "      <td>3</td>\n",
       "      <td>2</td>\n",
       "      <td>\\tAB38 9PJ</td>\n",
       "      <td>326340</td>\n",
       "      <td>842570</td>\n",
       "    </tr>\n",
       "    <tr>\n",
       "      <th>2</th>\n",
       "      <td>3</td>\n",
       "      <td>AnCnoc</td>\n",
       "      <td>1</td>\n",
       "      <td>3</td>\n",
       "      <td>2</td>\n",
       "      <td>0</td>\n",
       "      <td>0</td>\n",
       "      <td>2</td>\n",
       "      <td>0</td>\n",
       "      <td>0</td>\n",
       "      <td>2</td>\n",
       "      <td>2</td>\n",
       "      <td>3</td>\n",
       "      <td>2</td>\n",
       "      <td>\\tAB5 5LI</td>\n",
       "      <td>352960</td>\n",
       "      <td>839320</td>\n",
       "    </tr>\n",
       "    <tr>\n",
       "      <th>3</th>\n",
       "      <td>4</td>\n",
       "      <td>Ardbeg</td>\n",
       "      <td>4</td>\n",
       "      <td>1</td>\n",
       "      <td>4</td>\n",
       "      <td>4</td>\n",
       "      <td>0</td>\n",
       "      <td>0</td>\n",
       "      <td>2</td>\n",
       "      <td>0</td>\n",
       "      <td>1</td>\n",
       "      <td>2</td>\n",
       "      <td>1</td>\n",
       "      <td>0</td>\n",
       "      <td>\\tPA42 7EB</td>\n",
       "      <td>141560</td>\n",
       "      <td>646220</td>\n",
       "    </tr>\n",
       "    <tr>\n",
       "      <th>4</th>\n",
       "      <td>5</td>\n",
       "      <td>Ardmore</td>\n",
       "      <td>2</td>\n",
       "      <td>2</td>\n",
       "      <td>2</td>\n",
       "      <td>0</td>\n",
       "      <td>0</td>\n",
       "      <td>1</td>\n",
       "      <td>1</td>\n",
       "      <td>1</td>\n",
       "      <td>2</td>\n",
       "      <td>3</td>\n",
       "      <td>1</td>\n",
       "      <td>1</td>\n",
       "      <td>\\tAB54 4NH</td>\n",
       "      <td>355350</td>\n",
       "      <td>829140</td>\n",
       "    </tr>\n",
       "  </tbody>\n",
       "</table>\n",
       "</div>"
      ],
      "text/plain": [
       "   RowID Distillery  Body  Sweetness  Smoky  Medicinal  Tobacco  Honey  Spicy  \\\n",
       "0      1  Aberfeldy     2          2      2          0        0      2      1   \n",
       "1      2   Aberlour     3          3      1          0        0      4      3   \n",
       "2      3     AnCnoc     1          3      2          0        0      2      0   \n",
       "3      4     Ardbeg     4          1      4          4        0      0      2   \n",
       "4      5    Ardmore     2          2      2          0        0      1      1   \n",
       "\n",
       "   Winey  Nutty  Malty  Fruity  Floral    Postcode  Latitude  Longitude  \n",
       "0      2      2      2       2       2  \\tPH15 2EB    286580     749680  \n",
       "1      2      2      3       3       2  \\tAB38 9PJ    326340     842570  \n",
       "2      0      2      2       3       2   \\tAB5 5LI    352960     839320  \n",
       "3      0      1      2       1       0  \\tPA42 7EB    141560     646220  \n",
       "4      1      2      3       1       1  \\tAB54 4NH    355350     829140  "
      ]
     },
     "execution_count": 2,
     "metadata": {},
     "output_type": "execute_result"
    }
   ],
   "source": [
    "whisky = pd.read_csv(\"whisky.csv\")\n",
    "whisky.head()"
   ]
  },
  {
   "cell_type": "code",
   "execution_count": 3,
   "metadata": {},
   "outputs": [
    {
     "name": "stdout",
     "output_type": "stream",
     "text": [
      "<class 'pandas.core.frame.DataFrame'>\n",
      "RangeIndex: 86 entries, 0 to 85\n",
      "Data columns (total 17 columns):\n",
      " #   Column      Non-Null Count  Dtype \n",
      "---  ------      --------------  ----- \n",
      " 0   RowID       86 non-null     int64 \n",
      " 1   Distillery  86 non-null     object\n",
      " 2   Body        86 non-null     int64 \n",
      " 3   Sweetness   86 non-null     int64 \n",
      " 4   Smoky       86 non-null     int64 \n",
      " 5   Medicinal   86 non-null     int64 \n",
      " 6   Tobacco     86 non-null     int64 \n",
      " 7   Honey       86 non-null     int64 \n",
      " 8   Spicy       86 non-null     int64 \n",
      " 9   Winey       86 non-null     int64 \n",
      " 10  Nutty       86 non-null     int64 \n",
      " 11  Malty       86 non-null     int64 \n",
      " 12  Fruity      86 non-null     int64 \n",
      " 13  Floral      86 non-null     int64 \n",
      " 14  Postcode    86 non-null     object\n",
      " 15  Latitude    86 non-null     int64 \n",
      " 16  Longitude   86 non-null     int64 \n",
      "dtypes: int64(15), object(2)\n",
      "memory usage: 11.5+ KB\n"
     ]
    }
   ],
   "source": [
    "whisky.info()"
   ]
  },
  {
   "cell_type": "code",
   "execution_count": 4,
   "metadata": {},
   "outputs": [],
   "source": [
    "# # Iterate over each column of whisky\n",
    "# for col in whisky:\n",
    "#     if whisky[col].dtypes == 'object':\n",
    "#         whisky = whisky.fillna(whisky[col].value_counts().index[0])"
   ]
  },
  {
   "cell_type": "code",
   "execution_count": 5,
   "metadata": {},
   "outputs": [
    {
     "data": {
      "text/plain": [
       "RowID         0\n",
       "Distillery    0\n",
       "Body          0\n",
       "Sweetness     0\n",
       "Smoky         0\n",
       "Medicinal     0\n",
       "Tobacco       0\n",
       "Honey         0\n",
       "Spicy         0\n",
       "Winey         0\n",
       "Nutty         0\n",
       "Malty         0\n",
       "Fruity        0\n",
       "Floral        0\n",
       "Postcode      0\n",
       "Latitude      0\n",
       "Longitude     0\n",
       "dtype: int64"
      ]
     },
     "execution_count": 5,
     "metadata": {},
     "output_type": "execute_result"
    }
   ],
   "source": [
    "whisky.isnull().sum()"
   ]
  },
  {
   "cell_type": "markdown",
   "metadata": {},
   "source": [
    "There are no null values, I realized this by inspection as well as by the above commands."
   ]
  },
  {
   "cell_type": "code",
   "execution_count": 6,
   "metadata": {},
   "outputs": [
    {
     "data": {
      "text/html": [
       "<div>\n",
       "<style scoped>\n",
       "    .dataframe tbody tr th:only-of-type {\n",
       "        vertical-align: middle;\n",
       "    }\n",
       "\n",
       "    .dataframe tbody tr th {\n",
       "        vertical-align: top;\n",
       "    }\n",
       "\n",
       "    .dataframe thead th {\n",
       "        text-align: right;\n",
       "    }\n",
       "</style>\n",
       "<table border=\"1\" class=\"dataframe\">\n",
       "  <thead>\n",
       "    <tr style=\"text-align: right;\">\n",
       "      <th></th>\n",
       "      <th>RowID</th>\n",
       "      <th>Body</th>\n",
       "      <th>Sweetness</th>\n",
       "      <th>Smoky</th>\n",
       "      <th>Medicinal</th>\n",
       "      <th>Tobacco</th>\n",
       "      <th>Honey</th>\n",
       "      <th>Spicy</th>\n",
       "      <th>Winey</th>\n",
       "      <th>Nutty</th>\n",
       "      <th>Malty</th>\n",
       "      <th>Fruity</th>\n",
       "      <th>Floral</th>\n",
       "      <th>Latitude</th>\n",
       "      <th>Longitude</th>\n",
       "    </tr>\n",
       "  </thead>\n",
       "  <tbody>\n",
       "    <tr>\n",
       "      <th>count</th>\n",
       "      <td>86.000000</td>\n",
       "      <td>86.000000</td>\n",
       "      <td>86.000000</td>\n",
       "      <td>86.000000</td>\n",
       "      <td>86.000000</td>\n",
       "      <td>86.000000</td>\n",
       "      <td>86.000000</td>\n",
       "      <td>86.000000</td>\n",
       "      <td>86.000000</td>\n",
       "      <td>86.000000</td>\n",
       "      <td>86.000000</td>\n",
       "      <td>86.000000</td>\n",
       "      <td>86.000000</td>\n",
       "      <td>86.000000</td>\n",
       "      <td>8.600000e+01</td>\n",
       "    </tr>\n",
       "    <tr>\n",
       "      <th>mean</th>\n",
       "      <td>43.500000</td>\n",
       "      <td>2.069767</td>\n",
       "      <td>2.290698</td>\n",
       "      <td>1.534884</td>\n",
       "      <td>0.546512</td>\n",
       "      <td>0.116279</td>\n",
       "      <td>1.244186</td>\n",
       "      <td>1.383721</td>\n",
       "      <td>0.976744</td>\n",
       "      <td>1.465116</td>\n",
       "      <td>1.802326</td>\n",
       "      <td>1.802326</td>\n",
       "      <td>1.697674</td>\n",
       "      <td>287247.162791</td>\n",
       "      <td>8.026597e+05</td>\n",
       "    </tr>\n",
       "    <tr>\n",
       "      <th>std</th>\n",
       "      <td>24.969982</td>\n",
       "      <td>0.930410</td>\n",
       "      <td>0.717287</td>\n",
       "      <td>0.863613</td>\n",
       "      <td>0.990032</td>\n",
       "      <td>0.322439</td>\n",
       "      <td>0.853175</td>\n",
       "      <td>0.784686</td>\n",
       "      <td>0.932760</td>\n",
       "      <td>0.821730</td>\n",
       "      <td>0.629094</td>\n",
       "      <td>0.779438</td>\n",
       "      <td>0.855017</td>\n",
       "      <td>67889.046814</td>\n",
       "      <td>8.802422e+04</td>\n",
       "    </tr>\n",
       "    <tr>\n",
       "      <th>min</th>\n",
       "      <td>1.000000</td>\n",
       "      <td>0.000000</td>\n",
       "      <td>1.000000</td>\n",
       "      <td>0.000000</td>\n",
       "      <td>0.000000</td>\n",
       "      <td>0.000000</td>\n",
       "      <td>0.000000</td>\n",
       "      <td>0.000000</td>\n",
       "      <td>0.000000</td>\n",
       "      <td>0.000000</td>\n",
       "      <td>0.000000</td>\n",
       "      <td>0.000000</td>\n",
       "      <td>0.000000</td>\n",
       "      <td>126680.000000</td>\n",
       "      <td>5.542600e+05</td>\n",
       "    </tr>\n",
       "    <tr>\n",
       "      <th>25%</th>\n",
       "      <td>22.250000</td>\n",
       "      <td>2.000000</td>\n",
       "      <td>2.000000</td>\n",
       "      <td>1.000000</td>\n",
       "      <td>0.000000</td>\n",
       "      <td>0.000000</td>\n",
       "      <td>1.000000</td>\n",
       "      <td>1.000000</td>\n",
       "      <td>0.000000</td>\n",
       "      <td>1.000000</td>\n",
       "      <td>1.000000</td>\n",
       "      <td>1.000000</td>\n",
       "      <td>1.000000</td>\n",
       "      <td>265672.500000</td>\n",
       "      <td>7.556975e+05</td>\n",
       "    </tr>\n",
       "    <tr>\n",
       "      <th>50%</th>\n",
       "      <td>43.500000</td>\n",
       "      <td>2.000000</td>\n",
       "      <td>2.000000</td>\n",
       "      <td>1.000000</td>\n",
       "      <td>0.000000</td>\n",
       "      <td>0.000000</td>\n",
       "      <td>1.000000</td>\n",
       "      <td>1.000000</td>\n",
       "      <td>1.000000</td>\n",
       "      <td>2.000000</td>\n",
       "      <td>2.000000</td>\n",
       "      <td>2.000000</td>\n",
       "      <td>2.000000</td>\n",
       "      <td>319515.000000</td>\n",
       "      <td>8.398850e+05</td>\n",
       "    </tr>\n",
       "    <tr>\n",
       "      <th>75%</th>\n",
       "      <td>64.750000</td>\n",
       "      <td>2.000000</td>\n",
       "      <td>3.000000</td>\n",
       "      <td>2.000000</td>\n",
       "      <td>1.000000</td>\n",
       "      <td>0.000000</td>\n",
       "      <td>2.000000</td>\n",
       "      <td>2.000000</td>\n",
       "      <td>1.000000</td>\n",
       "      <td>2.000000</td>\n",
       "      <td>2.000000</td>\n",
       "      <td>2.000000</td>\n",
       "      <td>2.000000</td>\n",
       "      <td>328630.000000</td>\n",
       "      <td>8.507700e+05</td>\n",
       "    </tr>\n",
       "    <tr>\n",
       "      <th>max</th>\n",
       "      <td>86.000000</td>\n",
       "      <td>4.000000</td>\n",
       "      <td>4.000000</td>\n",
       "      <td>4.000000</td>\n",
       "      <td>4.000000</td>\n",
       "      <td>1.000000</td>\n",
       "      <td>4.000000</td>\n",
       "      <td>3.000000</td>\n",
       "      <td>4.000000</td>\n",
       "      <td>4.000000</td>\n",
       "      <td>3.000000</td>\n",
       "      <td>3.000000</td>\n",
       "      <td>4.000000</td>\n",
       "      <td>381020.000000</td>\n",
       "      <td>1.009260e+06</td>\n",
       "    </tr>\n",
       "  </tbody>\n",
       "</table>\n",
       "</div>"
      ],
      "text/plain": [
       "           RowID       Body  Sweetness      Smoky  Medicinal    Tobacco  \\\n",
       "count  86.000000  86.000000  86.000000  86.000000  86.000000  86.000000   \n",
       "mean   43.500000   2.069767   2.290698   1.534884   0.546512   0.116279   \n",
       "std    24.969982   0.930410   0.717287   0.863613   0.990032   0.322439   \n",
       "min     1.000000   0.000000   1.000000   0.000000   0.000000   0.000000   \n",
       "25%    22.250000   2.000000   2.000000   1.000000   0.000000   0.000000   \n",
       "50%    43.500000   2.000000   2.000000   1.000000   0.000000   0.000000   \n",
       "75%    64.750000   2.000000   3.000000   2.000000   1.000000   0.000000   \n",
       "max    86.000000   4.000000   4.000000   4.000000   4.000000   1.000000   \n",
       "\n",
       "           Honey      Spicy      Winey      Nutty      Malty     Fruity  \\\n",
       "count  86.000000  86.000000  86.000000  86.000000  86.000000  86.000000   \n",
       "mean    1.244186   1.383721   0.976744   1.465116   1.802326   1.802326   \n",
       "std     0.853175   0.784686   0.932760   0.821730   0.629094   0.779438   \n",
       "min     0.000000   0.000000   0.000000   0.000000   0.000000   0.000000   \n",
       "25%     1.000000   1.000000   0.000000   1.000000   1.000000   1.000000   \n",
       "50%     1.000000   1.000000   1.000000   2.000000   2.000000   2.000000   \n",
       "75%     2.000000   2.000000   1.000000   2.000000   2.000000   2.000000   \n",
       "max     4.000000   3.000000   4.000000   4.000000   3.000000   3.000000   \n",
       "\n",
       "          Floral       Latitude     Longitude  \n",
       "count  86.000000      86.000000  8.600000e+01  \n",
       "mean    1.697674  287247.162791  8.026597e+05  \n",
       "std     0.855017   67889.046814  8.802422e+04  \n",
       "min     0.000000  126680.000000  5.542600e+05  \n",
       "25%     1.000000  265672.500000  7.556975e+05  \n",
       "50%     2.000000  319515.000000  8.398850e+05  \n",
       "75%     2.000000  328630.000000  8.507700e+05  \n",
       "max     4.000000  381020.000000  1.009260e+06  "
      ]
     },
     "execution_count": 6,
     "metadata": {},
     "output_type": "execute_result"
    }
   ],
   "source": [
    "whisky.describe()"
   ]
  },
  {
   "cell_type": "code",
   "execution_count": 7,
   "metadata": {},
   "outputs": [],
   "source": [
    "whis = whisky.drop([\"RowID\", \"Distillery\", \"Postcode\", \"Longitude\", \"Latitude\"], axis = 1)"
   ]
  },
  {
   "cell_type": "markdown",
   "metadata": {},
   "source": [
    "Since the columns are categorical, I converted the data types for these columns to categorical data type."
   ]
  },
  {
   "cell_type": "code",
   "execution_count": 8,
   "metadata": {},
   "outputs": [],
   "source": [
    "# whis.Body = whis.Body.astype('category')\n",
    "# whis.Sweetness = whis.Sweetness.astype('category')\n",
    "# whis.Smoky = whis.Smoky.astype('category')\n",
    "# whis.Medicinal = whis.Medicinal.astype('category')\n",
    "# whis.Tobacco = whis.Tobacco.astype('category')\n",
    "# whis.Honey = whis.Honey.astype('category')\n",
    "# whis.Spicy = whis.Spicy.astype('category')\n",
    "# whis.Winey = whis.Winey.astype('category')\n",
    "# whis.Nutty = whis.Nutty.astype('category')\n",
    "# whis.Malty = whis.Malty.astype('category')\n",
    "# whis.Fruity = whis.Fruity.astype('category')\n",
    "# whis.Floral = whis.Floral.astype('category')\n",
    "# whis.info()"
   ]
  },
  {
   "cell_type": "code",
   "execution_count": 9,
   "metadata": {},
   "outputs": [],
   "source": [
    "# whis.Tobacco = whisky.Tobacco.astype('category')\n",
    "# # whisky.Distillery = whisky.Distillery.astype('string')"
   ]
  },
  {
   "cell_type": "code",
   "execution_count": 10,
   "metadata": {},
   "outputs": [],
   "source": [
    "# whis[\"Nutty\"].value_counts()"
   ]
  },
  {
   "cell_type": "code",
   "execution_count": 11,
   "metadata": {},
   "outputs": [
    {
     "data": {
      "text/plain": [
       "Index(['Body', 'Sweetness', 'Smoky', 'Medicinal', 'Tobacco', 'Honey', 'Spicy',\n",
       "       'Winey', 'Nutty', 'Malty', 'Fruity', 'Floral'],\n",
       "      dtype='object')"
      ]
     },
     "execution_count": 11,
     "metadata": {},
     "output_type": "execute_result"
    }
   ],
   "source": [
    "whis.columns"
   ]
  },
  {
   "cell_type": "code",
   "execution_count": 12,
   "metadata": {},
   "outputs": [],
   "source": [
    "# sns.factorplot(\"Winey\", data = whis, kind = \"count\")\n",
    "# plt.show()"
   ]
  },
  {
   "cell_type": "code",
   "execution_count": 13,
   "metadata": {},
   "outputs": [],
   "source": [
    "# sns.factorplot(\"Body\", data=whisky,kind=\"count\", hue=\"Tobacco\")\n",
    "# sns.factorplot(\"Sweetness\", data=whisky,kind=\"count\", hue=\"Tobacco\")\n",
    "# sns.factorplot(\"Smoky\", data=whisky,kind=\"count\", hue=\"Tobacco\")\n",
    "# sns.factorplot(\"Medicinal\", data=whisky,kind=\"count\", hue=\"Tobacco\")\n",
    "# sns.factorplot(\"Honey\", data=whisky,kind=\"count\", hue=\"Tobacco\")\n",
    "# sns.factorplot(\"Spicy\", data=whisky,kind=\"count\", hue=\"Tobacco\")\n",
    "# sns.factorplot(\"Winey\", data=whisky,kind=\"count\", hue=\"Tobacco\")\n",
    "# sns.factorplot(\"Nutty\", data=whisky,kind=\"count\", hue=\"Tobacco\")\n",
    "# sns.factorplot(\"Malty\", data=whisky,kind=\"count\", hue=\"Tobacco\")\n",
    "# sns.factorplot(\"Fruity\", data=whisky,kind=\"count\", hue=\"Tobacco\")\n",
    "# plt.show()"
   ]
  },
  {
   "cell_type": "code",
   "execution_count": 14,
   "metadata": {},
   "outputs": [
    {
     "data": {
      "image/png": "[encoded data removed]",
      "text/plain": [
       "<Figure size 1152x720 with 12 Axes>"
      ]
     },
     "metadata": {
      "needs_background": "light"
     },
     "output_type": "display_data"
    }
   ],
   "source": [
    "whis.hist(figsize = (16, 10))\n",
    "plt.show()"
   ]
  },
  {
   "cell_type": "code",
   "execution_count": 15,
   "metadata": {},
   "outputs": [],
   "source": [
    "# sns.pairplot(whis, hue='Tobacco')"
   ]
  },
  {
   "cell_type": "code",
   "execution_count": 16,
   "metadata": {},
   "outputs": [
    {
     "data": {
      "text/plain": [
       "<matplotlib.axes._subplots.AxesSubplot at 0x7eff63c544e0>"
      ]
     },
     "execution_count": 16,
     "metadata": {},
     "output_type": "execute_result"
    },
    {
     "data": {
      "image/png": "[encoded data removed]",
      "text/plain": [
       "<Figure size 1152x720 with 2 Axes>"
      ]
     },
     "metadata": {
      "needs_background": "light"
     },
     "output_type": "display_data"
    }
   ],
   "source": [
    "fig, ax = plt.subplots(figsize = (16,10))\n",
    "sns.heatmap(whis.corr(), ax = ax)"
   ]
  },
  {
   "cell_type": "code",
   "execution_count": 17,
   "metadata": {},
   "outputs": [],
   "source": [
    "# le = LabelEncoder()\n",
    "\n",
    "# # Iterate over all the values of each column and extract their dtypes\n",
    "# for col in whisky:\n",
    "#     if whisky[col].dtype == 'object':\n",
    "#         whisky[col] = le.fit_transform(whisky[col])"
   ]
  },
  {
   "cell_type": "code",
   "execution_count": 20,
   "metadata": {},
   "outputs": [],
   "source": [
    "# Creating the target variable for the test and training sets of data\n",
    "X = whisky.drop([\"RowID\", \"Distillery\", \"Tobacco\", \"Postcode\", \"Latitude\", \"Longitude\"], axis = 1)\n",
    "# y = whisky[\"Tobacco\"]"
   ]
  },
  {
   "cell_type": "code",
   "execution_count": 26,
   "metadata": {},
   "outputs": [],
   "source": [
    "from sklearn.decomposition import KernelPCA\n",
    "np.random.seed(42)\n",
    "rbf_pca= KernelPCA(n_components=2, kernel='rbf')\n",
    "X_reduced= rbf_pca.fit_transform(whis)"
   ]
  },
  {
   "cell_type": "code",
   "execution_count": 28,
   "metadata": {},
   "outputs": [
    {
     "data": {
      "image/png": "[encoded data removed]",
      "text/plain": [
       "<Figure size 432x288 with 1 Axes>"
      ]
     },
     "metadata": {
      "needs_background": "light"
     },
     "output_type": "display_data"
    }
   ],
   "source": [
    "x = X_reduced[:,0]\n",
    "y = X_reduced[:,1]\n",
    "\n",
    "plt.scatter(x, y)\n",
    "plt.title('transformed features')\n",
    "plt.show()"
   ]
  },
  {
   "cell_type": "code",
   "execution_count": 32,
   "metadata": {},
   "outputs": [
    {
     "data": {
      "image/png": "[encoded data removed]",
      "text/plain": [
       "<Figure size 720x576 with 1 Axes>"
      ]
     },
     "metadata": {
      "needs_background": "light"
     },
     "output_type": "display_data"
    }
   ],
   "source": [
    "wcss = []\n",
    "for i in range(1, 12):\n",
    "    kmeans = KMeans(n_clusters=i, init='k-means++', max_iter=300, n_init=10, random_state=0)\n",
    "    kmeans.fit(X_reduced)\n",
    "    wcss.append(kmeans.inertia_)\n",
    "\n",
    "fig = plt.figure(figsize=(10,8))\n",
    "plt.plot(range(1, 12), wcss)\n",
    "plt.title('Elbow Method')\n",
    "plt.xlabel('Number of clusters')\n",
    "plt.ylabel('WCSS')\n",
    "plt.show()"
   ]
  },
  {
   "cell_type": "code",
   "execution_count": 33,
   "metadata": {},
   "outputs": [
    {
     "data": {
      "image/png": "[encoded data removed]",
      "text/plain": [
       "<Figure size 432x288 with 1 Axes>"
      ]
     },
     "metadata": {
      "needs_background": "light"
     },
     "output_type": "display_data"
    }
   ],
   "source": [
    "from sklearn.metrics import silhouette_score\n",
    "sil_scores = []\n",
    "for clusters in range(2,10):\n",
    "    km = KMeans(n_clusters=clusters, random_state=42)\n",
    "    km.fit(X_reduced)\n",
    "    labels =  km.predict(X_reduced)\n",
    "    \n",
    "    #silhouette score\n",
    "    sil_score = silhouette_score(X_reduced, labels)   \n",
    "    sil_scores.append(sil_score)\n",
    "    \n",
    "sns.barplot(x=list(range(2,10)), y=sil_scores)\n",
    "plt.title('Score for number cluster')\n",
    "plt.xlabel('Number of clusters')\n",
    "plt.ylabel('Silhouette score')\n",
    "plt.show()"
   ]
  },
  {
   "cell_type": "code",
   "execution_count": 22,
   "metadata": {},
   "outputs": [],
   "source": [
    "kmeans = KMeans(n_clusters = 3, init = 'k-means++', max_iter = 300, n_init = 10, random_state = 0) \n",
    "y_kmeans = kmeans.fit_predict(X)\n",
    "\n",
    "# X = X.as_matrix(columns = None)"
   ]
  },
  {
   "cell_type": "code",
   "execution_count": 30,
   "metadata": {},
   "outputs": [
    {
     "ename": "ValueError",
     "evalue": "Expected 2D array, got 1D array instead:\narray=[ 0.05068377  0.29942507 -0.2543951   0.59277778  0.03048082 -0.1692525\n -0.35650584  0.03131003 -0.34842715  0.06078208  0.37204534  0.0670304\n  0.21256584 -0.19192403  0.15400793 -0.00426256 -0.3590204   0.08310594\n  0.20057004  0.10659816 -0.38255186  0.53600039 -0.45242739  0.56289829\n  0.00657097 -0.14204562  0.42982868  0.33269591 -0.22244439 -0.10755186\n -0.29777508  0.01686672  0.09203926 -0.27116235  0.16966978 -0.25455519\n -0.0660167  -0.24496476 -0.04257809  0.16888281 -0.21707866 -0.50524179\n  0.48296005  0.07705269  0.14955958 -0.37883797 -0.3504256  -0.36025359\n -0.07825189 -0.40513074 -0.14547812  0.0644899   0.03543494  0.21512424\n -0.24121569  0.23890391 -0.11536005  0.56975886  0.52574738 -0.11242448\n -0.25347793 -0.00188586  0.42451848 -0.15699638 -0.20932736  0.39119078\n  0.30890386  0.05338067  0.16672737 -0.009449    0.34422979 -0.13831286\n -0.20344895 -0.28337939  0.31741109  0.13250272 -0.19230794  0.56426465\n -0.36537105 -0.22404769  0.02662532 -0.37427633  0.10139334 -0.24635412\n  0.08805926 -0.11888058].\nReshape your data either using array.reshape(-1, 1) if your data has a single feature or array.reshape(1, -1) if it contains a single sample.",
     "output_type": "error",
     "traceback": [
      "\u001b[0;31m---------------------------------------------------------------------------\u001b[0m",
      "\u001b[0;31mValueError\u001b[0m                                Traceback (most recent call last)",
      "\u001b[0;32m<ipython-input-30-7ff763901eb6>\u001b[0m in \u001b[0;36m<module>\u001b[0;34m\u001b[0m\n\u001b[1;32m      1\u001b[0m \u001b[0msse\u001b[0m \u001b[0;34m=\u001b[0m \u001b[0;34m{\u001b[0m\u001b[0;34m}\u001b[0m\u001b[0;34m\u001b[0m\u001b[0;34m\u001b[0m\u001b[0m\n\u001b[1;32m      2\u001b[0m \u001b[0;32mfor\u001b[0m \u001b[0mk\u001b[0m \u001b[0;32min\u001b[0m \u001b[0mrange\u001b[0m\u001b[0;34m(\u001b[0m\u001b[0;36m1\u001b[0m\u001b[0;34m,\u001b[0m \u001b[0;36m10\u001b[0m\u001b[0;34m)\u001b[0m\u001b[0;34m:\u001b[0m\u001b[0;34m\u001b[0m\u001b[0;34m\u001b[0m\u001b[0m\n\u001b[0;32m----> 3\u001b[0;31m     \u001b[0mkmeans\u001b[0m \u001b[0;34m=\u001b[0m \u001b[0mKMeans\u001b[0m\u001b[0;34m(\u001b[0m\u001b[0mn_clusters\u001b[0m\u001b[0;34m=\u001b[0m\u001b[0mk\u001b[0m\u001b[0;34m,\u001b[0m \u001b[0mmax_iter\u001b[0m\u001b[0;34m=\u001b[0m\u001b[0;36m1000\u001b[0m\u001b[0;34m)\u001b[0m\u001b[0;34m.\u001b[0m\u001b[0mfit\u001b[0m\u001b[0;34m(\u001b[0m\u001b[0mX\u001b[0m\u001b[0;34m)\u001b[0m\u001b[0;34m\u001b[0m\u001b[0;34m\u001b[0m\u001b[0m\n\u001b[0m\u001b[1;32m      4\u001b[0m     \u001b[0mX\u001b[0m\u001b[0;34m[\u001b[0m\u001b[0;34m\"clusters\"\u001b[0m\u001b[0;34m]\u001b[0m \u001b[0;34m=\u001b[0m \u001b[0mkmeans\u001b[0m\u001b[0;34m.\u001b[0m\u001b[0mlabels_\u001b[0m\u001b[0;34m\u001b[0m\u001b[0;34m\u001b[0m\u001b[0m\n\u001b[1;32m      5\u001b[0m     \u001b[0;31m#print(data[\"clusters\"])\u001b[0m\u001b[0;34m\u001b[0m\u001b[0;34m\u001b[0m\u001b[0;34m\u001b[0m\u001b[0m\n",
      "\u001b[0;32m~/anaconda3/lib/python3.7/site-packages/sklearn/cluster/_kmeans.py\u001b[0m in \u001b[0;36mfit\u001b[0;34m(self, X, y, sample_weight)\u001b[0m\n\u001b[1;32m    857\u001b[0m         \u001b[0morder\u001b[0m \u001b[0;34m=\u001b[0m \u001b[0;34m\"C\"\u001b[0m \u001b[0;32mif\u001b[0m \u001b[0mself\u001b[0m\u001b[0;34m.\u001b[0m\u001b[0mcopy_x\u001b[0m \u001b[0;32melse\u001b[0m \u001b[0;32mNone\u001b[0m\u001b[0;34m\u001b[0m\u001b[0;34m\u001b[0m\u001b[0m\n\u001b[1;32m    858\u001b[0m         X = check_array(X, accept_sparse='csr', dtype=[np.float64, np.float32],\n\u001b[0;32m--> 859\u001b[0;31m                         order=order, copy=self.copy_x)\n\u001b[0m\u001b[1;32m    860\u001b[0m         \u001b[0;31m# verify that the number of samples given is larger than k\u001b[0m\u001b[0;34m\u001b[0m\u001b[0;34m\u001b[0m\u001b[0;34m\u001b[0m\u001b[0m\n\u001b[1;32m    861\u001b[0m         \u001b[0;32mif\u001b[0m \u001b[0m_num_samples\u001b[0m\u001b[0;34m(\u001b[0m\u001b[0mX\u001b[0m\u001b[0;34m)\u001b[0m \u001b[0;34m<\u001b[0m \u001b[0mself\u001b[0m\u001b[0;34m.\u001b[0m\u001b[0mn_clusters\u001b[0m\u001b[0;34m:\u001b[0m\u001b[0;34m\u001b[0m\u001b[0;34m\u001b[0m\u001b[0m\n",
      "\u001b[0;32m~/anaconda3/lib/python3.7/site-packages/sklearn/utils/validation.py\u001b[0m in \u001b[0;36mcheck_array\u001b[0;34m(array, accept_sparse, accept_large_sparse, dtype, order, copy, force_all_finite, ensure_2d, allow_nd, ensure_min_samples, ensure_min_features, warn_on_dtype, estimator)\u001b[0m\n\u001b[1;32m    554\u001b[0m                     \u001b[0;34m\"Reshape your data either using array.reshape(-1, 1) if \"\u001b[0m\u001b[0;34m\u001b[0m\u001b[0;34m\u001b[0m\u001b[0m\n\u001b[1;32m    555\u001b[0m                     \u001b[0;34m\"your data has a single feature or array.reshape(1, -1) \"\u001b[0m\u001b[0;34m\u001b[0m\u001b[0;34m\u001b[0m\u001b[0m\n\u001b[0;32m--> 556\u001b[0;31m                     \"if it contains a single sample.\".format(array))\n\u001b[0m\u001b[1;32m    557\u001b[0m \u001b[0;34m\u001b[0m\u001b[0m\n\u001b[1;32m    558\u001b[0m         \u001b[0;31m# in the future np.flexible dtypes will be handled like object dtypes\u001b[0m\u001b[0;34m\u001b[0m\u001b[0;34m\u001b[0m\u001b[0;34m\u001b[0m\u001b[0m\n",
      "\u001b[0;31mValueError\u001b[0m: Expected 2D array, got 1D array instead:\narray=[ 0.05068377  0.29942507 -0.2543951   0.59277778  0.03048082 -0.1692525\n -0.35650584  0.03131003 -0.34842715  0.06078208  0.37204534  0.0670304\n  0.21256584 -0.19192403  0.15400793 -0.00426256 -0.3590204   0.08310594\n  0.20057004  0.10659816 -0.38255186  0.53600039 -0.45242739  0.56289829\n  0.00657097 -0.14204562  0.42982868  0.33269591 -0.22244439 -0.10755186\n -0.29777508  0.01686672  0.09203926 -0.27116235  0.16966978 -0.25455519\n -0.0660167  -0.24496476 -0.04257809  0.16888281 -0.21707866 -0.50524179\n  0.48296005  0.07705269  0.14955958 -0.37883797 -0.3504256  -0.36025359\n -0.07825189 -0.40513074 -0.14547812  0.0644899   0.03543494  0.21512424\n -0.24121569  0.23890391 -0.11536005  0.56975886  0.52574738 -0.11242448\n -0.25347793 -0.00188586  0.42451848 -0.15699638 -0.20932736  0.39119078\n  0.30890386  0.05338067  0.16672737 -0.009449    0.34422979 -0.13831286\n -0.20344895 -0.28337939  0.31741109  0.13250272 -0.19230794  0.56426465\n -0.36537105 -0.22404769  0.02662532 -0.37427633  0.10139334 -0.24635412\n  0.08805926 -0.11888058].\nReshape your data either using array.reshape(-1, 1) if your data has a single feature or array.reshape(1, -1) if it contains a single sample."
     ]
    }
   ],
   "source": [
    "sse = {}\n",
    "for k in range(1, 10):\n",
    "    kmeans = KMeans(n_clusters=k, max_iter=1000).fit(X)\n",
    "    X[\"clusters\"] = kmeans.labels_\n",
    "    #print(data[\"clusters\"])\n",
    "    sse[k] = kmeans.inertia_ # Inertia: Sum of distances of samples to their closest cluster center\n",
    "plt.figure()\n",
    "plt.plot(list(sse.keys()), list(sse.values()))\n",
    "plt.xlabel(\"Number of cluster\")\n",
    "plt.ylabel(\"SSE\")\n",
    "plt.show()"
   ]
  },
  {
   "cell_type": "code",
   "execution_count": null,
   "metadata": {},
   "outputs": [],
   "source": [
    "# plt.scatter(X[y_kmeans == 0, 0], X[y_kmeans == 0,1],s=100,c='red',label='Others')\n",
    "# plt.scatter(X[y_kmeans == 1, 0], X[y_kmeans == 1,1],s=100,c='blue',label='Main')\n",
    "# plt.scatter(kmeans.cluster_centers_[:,0],kmeans.cluster_centers_[:,1],s=300,c='yellow',label='Centroids')\n",
    "# plt.title('Clusters Whisky tastings')\n",
    "# plt.legend()\n",
    "# plt.show()"
   ]
  },
  {
   "cell_type": "code",
   "execution_count": null,
   "metadata": {},
   "outputs": [],
   "source": []
  }
 ],
 "metadata": {
  "kernelspec": {
   "display_name": "Python 3",
   "language": "python",
   "name": "python3"
  },
  "language_info": {
   "codemirror_mode": {
    "name": "ipython",
    "version": 3
   },
   "file_extension": ".py",
   "mimetype": "text/x-python",
   "name": "python",
   "nbconvert_exporter": "python",
   "pygments_lexer": "ipython3",
   "version": "3.7.3"
  }
 },
 "nbformat": 4,
 "nbformat_minor": 4
}
